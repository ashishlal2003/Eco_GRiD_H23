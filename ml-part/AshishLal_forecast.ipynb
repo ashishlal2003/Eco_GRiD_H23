{
 "cells": [
  {
   "cell_type": "markdown",
   "metadata": {},
   "source": [
    "### Importing basic libraries"
   ]
  },
  {
   "cell_type": "code",
   "execution_count": 1,
   "metadata": {},
   "outputs": [],
   "source": [
    "import numpy as np\n",
    "import pandas as pd\n",
    "import matplotlib.pyplot as plt\n",
    "import seaborn as sns"
   ]
  },
  {
   "cell_type": "markdown",
   "metadata": {},
   "source": [
    "Importing the CSV File"
   ]
  },
  {
   "cell_type": "code",
   "execution_count": 2,
   "metadata": {},
   "outputs": [],
   "source": [
    "df = pd.read_csv('ashishlal_data.csv')"
   ]
  },
  {
   "cell_type": "markdown",
   "metadata": {},
   "source": [
    "### Exploratory Data Analysis (EDA)"
   ]
  },
  {
   "cell_type": "code",
   "execution_count": 3,
   "metadata": {},
   "outputs": [
    {
     "name": "stdout",
     "output_type": "stream",
     "text": [
      "<class 'pandas.core.frame.DataFrame'>\n",
      "RangeIndex: 21045 entries, 0 to 21044\n",
      "Data columns (total 17 columns):\n",
      " #   Column         Non-Null Count  Dtype  \n",
      "---  ------         --------------  -----  \n",
      " 0   Location       21045 non-null  object \n",
      " 1   Date           21045 non-null  int64  \n",
      " 2   Time           21045 non-null  int64  \n",
      " 3   Latitude       21045 non-null  float64\n",
      " 4   Longitude      21045 non-null  float64\n",
      " 5   Altitude       21045 non-null  int64  \n",
      " 6   YRMODAHRMI     21045 non-null  float64\n",
      " 7   Month          21045 non-null  int64  \n",
      " 8   Hour           21045 non-null  int64  \n",
      " 9   Season         21045 non-null  object \n",
      " 10  Humidity       21045 non-null  float64\n",
      " 11  AmbientTemp    21045 non-null  float64\n",
      " 12  PolyPwr        21045 non-null  float64\n",
      " 13  Wind.Speed     21045 non-null  int64  \n",
      " 14  Visibility     21045 non-null  float64\n",
      " 15  Pressure       21045 non-null  float64\n",
      " 16  Cloud.Ceiling  21045 non-null  int64  \n",
      "dtypes: float64(8), int64(7), object(2)\n",
      "memory usage: 2.7+ MB\n"
     ]
    }
   ],
   "source": [
    "df.info()"
   ]
  },
  {
   "cell_type": "code",
   "execution_count": 4,
   "metadata": {},
   "outputs": [
    {
     "data": {
      "text/html": [
       "<div>\n",
       "<style scoped>\n",
       "    .dataframe tbody tr th:only-of-type {\n",
       "        vertical-align: middle;\n",
       "    }\n",
       "\n",
       "    .dataframe tbody tr th {\n",
       "        vertical-align: top;\n",
       "    }\n",
       "\n",
       "    .dataframe thead th {\n",
       "        text-align: right;\n",
       "    }\n",
       "</style>\n",
       "<table border=\"1\" class=\"dataframe\">\n",
       "  <thead>\n",
       "    <tr style=\"text-align: right;\">\n",
       "      <th></th>\n",
       "      <th>Location</th>\n",
       "      <th>Date</th>\n",
       "      <th>Time</th>\n",
       "      <th>Latitude</th>\n",
       "      <th>Longitude</th>\n",
       "      <th>Altitude</th>\n",
       "      <th>YRMODAHRMI</th>\n",
       "      <th>Month</th>\n",
       "      <th>Hour</th>\n",
       "      <th>Season</th>\n",
       "      <th>Humidity</th>\n",
       "      <th>AmbientTemp</th>\n",
       "      <th>PolyPwr</th>\n",
       "      <th>Wind.Speed</th>\n",
       "      <th>Visibility</th>\n",
       "      <th>Pressure</th>\n",
       "      <th>Cloud.Ceiling</th>\n",
       "    </tr>\n",
       "  </thead>\n",
       "  <tbody>\n",
       "    <tr>\n",
       "      <th>0</th>\n",
       "      <td>Camp Murray</td>\n",
       "      <td>20171203</td>\n",
       "      <td>1145</td>\n",
       "      <td>47.11</td>\n",
       "      <td>-122.57</td>\n",
       "      <td>84</td>\n",
       "      <td>2.017120e+11</td>\n",
       "      <td>12</td>\n",
       "      <td>11</td>\n",
       "      <td>Winter</td>\n",
       "      <td>81.71997</td>\n",
       "      <td>12.86919</td>\n",
       "      <td>2.42769</td>\n",
       "      <td>5</td>\n",
       "      <td>10.0</td>\n",
       "      <td>1010.6</td>\n",
       "      <td>722</td>\n",
       "    </tr>\n",
       "    <tr>\n",
       "      <th>1</th>\n",
       "      <td>Camp Murray</td>\n",
       "      <td>20171203</td>\n",
       "      <td>1315</td>\n",
       "      <td>47.11</td>\n",
       "      <td>-122.57</td>\n",
       "      <td>84</td>\n",
       "      <td>2.017120e+11</td>\n",
       "      <td>12</td>\n",
       "      <td>13</td>\n",
       "      <td>Winter</td>\n",
       "      <td>96.64917</td>\n",
       "      <td>9.66415</td>\n",
       "      <td>2.46273</td>\n",
       "      <td>0</td>\n",
       "      <td>10.0</td>\n",
       "      <td>1011.3</td>\n",
       "      <td>23</td>\n",
       "    </tr>\n",
       "    <tr>\n",
       "      <th>2</th>\n",
       "      <td>Camp Murray</td>\n",
       "      <td>20171203</td>\n",
       "      <td>1330</td>\n",
       "      <td>47.11</td>\n",
       "      <td>-122.57</td>\n",
       "      <td>84</td>\n",
       "      <td>2.017120e+11</td>\n",
       "      <td>12</td>\n",
       "      <td>13</td>\n",
       "      <td>Winter</td>\n",
       "      <td>93.61572</td>\n",
       "      <td>15.44983</td>\n",
       "      <td>4.46836</td>\n",
       "      <td>5</td>\n",
       "      <td>10.0</td>\n",
       "      <td>1011.6</td>\n",
       "      <td>32</td>\n",
       "    </tr>\n",
       "    <tr>\n",
       "      <th>3</th>\n",
       "      <td>Camp Murray</td>\n",
       "      <td>20171204</td>\n",
       "      <td>1230</td>\n",
       "      <td>47.11</td>\n",
       "      <td>-122.57</td>\n",
       "      <td>84</td>\n",
       "      <td>2.017120e+11</td>\n",
       "      <td>12</td>\n",
       "      <td>12</td>\n",
       "      <td>Winter</td>\n",
       "      <td>77.21558</td>\n",
       "      <td>10.36659</td>\n",
       "      <td>1.65364</td>\n",
       "      <td>5</td>\n",
       "      <td>2.0</td>\n",
       "      <td>1024.4</td>\n",
       "      <td>6</td>\n",
       "    </tr>\n",
       "    <tr>\n",
       "      <th>4</th>\n",
       "      <td>Camp Murray</td>\n",
       "      <td>20171204</td>\n",
       "      <td>1415</td>\n",
       "      <td>47.11</td>\n",
       "      <td>-122.57</td>\n",
       "      <td>84</td>\n",
       "      <td>2.017120e+11</td>\n",
       "      <td>12</td>\n",
       "      <td>14</td>\n",
       "      <td>Winter</td>\n",
       "      <td>54.80347</td>\n",
       "      <td>16.85471</td>\n",
       "      <td>6.57939</td>\n",
       "      <td>3</td>\n",
       "      <td>3.0</td>\n",
       "      <td>1023.7</td>\n",
       "      <td>9</td>\n",
       "    </tr>\n",
       "  </tbody>\n",
       "</table>\n",
       "</div>"
      ],
      "text/plain": [
       "      Location      Date  Time  Latitude  Longitude  Altitude    YRMODAHRMI  \\\n",
       "0  Camp Murray  20171203  1145     47.11    -122.57        84  2.017120e+11   \n",
       "1  Camp Murray  20171203  1315     47.11    -122.57        84  2.017120e+11   \n",
       "2  Camp Murray  20171203  1330     47.11    -122.57        84  2.017120e+11   \n",
       "3  Camp Murray  20171204  1230     47.11    -122.57        84  2.017120e+11   \n",
       "4  Camp Murray  20171204  1415     47.11    -122.57        84  2.017120e+11   \n",
       "\n",
       "   Month  Hour  Season  Humidity  AmbientTemp  PolyPwr  Wind.Speed  \\\n",
       "0     12    11  Winter  81.71997     12.86919  2.42769           5   \n",
       "1     12    13  Winter  96.64917      9.66415  2.46273           0   \n",
       "2     12    13  Winter  93.61572     15.44983  4.46836           5   \n",
       "3     12    12  Winter  77.21558     10.36659  1.65364           5   \n",
       "4     12    14  Winter  54.80347     16.85471  6.57939           3   \n",
       "\n",
       "   Visibility  Pressure  Cloud.Ceiling  \n",
       "0        10.0    1010.6            722  \n",
       "1        10.0    1011.3             23  \n",
       "2        10.0    1011.6             32  \n",
       "3         2.0    1024.4              6  \n",
       "4         3.0    1023.7              9  "
      ]
     },
     "execution_count": 4,
     "metadata": {},
     "output_type": "execute_result"
    }
   ],
   "source": [
    "df.head()"
   ]
  },
  {
   "cell_type": "code",
   "execution_count": 5,
   "metadata": {},
   "outputs": [
    {
     "data": {
      "text/html": [
       "<div>\n",
       "<style scoped>\n",
       "    .dataframe tbody tr th:only-of-type {\n",
       "        vertical-align: middle;\n",
       "    }\n",
       "\n",
       "    .dataframe tbody tr th {\n",
       "        vertical-align: top;\n",
       "    }\n",
       "\n",
       "    .dataframe thead th {\n",
       "        text-align: right;\n",
       "    }\n",
       "</style>\n",
       "<table border=\"1\" class=\"dataframe\">\n",
       "  <thead>\n",
       "    <tr style=\"text-align: right;\">\n",
       "      <th></th>\n",
       "      <th>Date</th>\n",
       "      <th>Time</th>\n",
       "      <th>Latitude</th>\n",
       "      <th>Longitude</th>\n",
       "      <th>Altitude</th>\n",
       "      <th>YRMODAHRMI</th>\n",
       "      <th>Month</th>\n",
       "      <th>Hour</th>\n",
       "      <th>Humidity</th>\n",
       "      <th>AmbientTemp</th>\n",
       "      <th>PolyPwr</th>\n",
       "      <th>Wind.Speed</th>\n",
       "      <th>Visibility</th>\n",
       "      <th>Pressure</th>\n",
       "      <th>Cloud.Ceiling</th>\n",
       "    </tr>\n",
       "  </thead>\n",
       "  <tbody>\n",
       "    <tr>\n",
       "      <th>count</th>\n",
       "      <td>2.104500e+04</td>\n",
       "      <td>21045.000000</td>\n",
       "      <td>21045.000000</td>\n",
       "      <td>21045.000000</td>\n",
       "      <td>21045.000000</td>\n",
       "      <td>2.104500e+04</td>\n",
       "      <td>21045.000000</td>\n",
       "      <td>21045.000000</td>\n",
       "      <td>21045.000000</td>\n",
       "      <td>21045.000000</td>\n",
       "      <td>21045.000000</td>\n",
       "      <td>21045.000000</td>\n",
       "      <td>21045.000000</td>\n",
       "      <td>21045.000000</td>\n",
       "      <td>21045.000000</td>\n",
       "    </tr>\n",
       "    <tr>\n",
       "      <th>mean</th>\n",
       "      <td>2.017720e+07</td>\n",
       "      <td>1267.483725</td>\n",
       "      <td>38.213823</td>\n",
       "      <td>-108.593678</td>\n",
       "      <td>798.843668</td>\n",
       "      <td>2.017718e+11</td>\n",
       "      <td>6.565883</td>\n",
       "      <td>12.627845</td>\n",
       "      <td>37.121941</td>\n",
       "      <td>29.285117</td>\n",
       "      <td>12.978583</td>\n",
       "      <td>10.318318</td>\n",
       "      <td>9.700071</td>\n",
       "      <td>925.944747</td>\n",
       "      <td>515.966785</td>\n",
       "    </tr>\n",
       "    <tr>\n",
       "      <th>std</th>\n",
       "      <td>4.579585e+03</td>\n",
       "      <td>167.602767</td>\n",
       "      <td>6.323761</td>\n",
       "      <td>16.364130</td>\n",
       "      <td>770.681794</td>\n",
       "      <td>4.579846e+07</td>\n",
       "      <td>2.983958</td>\n",
       "      <td>1.672952</td>\n",
       "      <td>23.823011</td>\n",
       "      <td>12.366820</td>\n",
       "      <td>7.123255</td>\n",
       "      <td>6.385030</td>\n",
       "      <td>1.351949</td>\n",
       "      <td>85.215659</td>\n",
       "      <td>301.903379</td>\n",
       "    </tr>\n",
       "    <tr>\n",
       "      <th>min</th>\n",
       "      <td>2.017052e+07</td>\n",
       "      <td>1000.000000</td>\n",
       "      <td>20.890000</td>\n",
       "      <td>-156.440000</td>\n",
       "      <td>1.000000</td>\n",
       "      <td>2.017050e+11</td>\n",
       "      <td>1.000000</td>\n",
       "      <td>10.000000</td>\n",
       "      <td>0.000000</td>\n",
       "      <td>-19.981770</td>\n",
       "      <td>0.257330</td>\n",
       "      <td>0.000000</td>\n",
       "      <td>0.000000</td>\n",
       "      <td>781.700000</td>\n",
       "      <td>0.000000</td>\n",
       "    </tr>\n",
       "    <tr>\n",
       "      <th>25%</th>\n",
       "      <td>2.017111e+07</td>\n",
       "      <td>1100.000000</td>\n",
       "      <td>38.160000</td>\n",
       "      <td>-117.260000</td>\n",
       "      <td>2.000000</td>\n",
       "      <td>2.017110e+11</td>\n",
       "      <td>4.000000</td>\n",
       "      <td>11.000000</td>\n",
       "      <td>17.529300</td>\n",
       "      <td>21.915280</td>\n",
       "      <td>6.404570</td>\n",
       "      <td>6.000000</td>\n",
       "      <td>10.000000</td>\n",
       "      <td>845.500000</td>\n",
       "      <td>140.000000</td>\n",
       "    </tr>\n",
       "    <tr>\n",
       "      <th>50%</th>\n",
       "      <td>2.018032e+07</td>\n",
       "      <td>1300.000000</td>\n",
       "      <td>38.950000</td>\n",
       "      <td>-111.180000</td>\n",
       "      <td>458.000000</td>\n",
       "      <td>2.018030e+11</td>\n",
       "      <td>7.000000</td>\n",
       "      <td>13.000000</td>\n",
       "      <td>33.123780</td>\n",
       "      <td>30.289150</td>\n",
       "      <td>13.798700</td>\n",
       "      <td>9.000000</td>\n",
       "      <td>10.000000</td>\n",
       "      <td>961.100000</td>\n",
       "      <td>722.000000</td>\n",
       "    </tr>\n",
       "    <tr>\n",
       "      <th>75%</th>\n",
       "      <td>2.018062e+07</td>\n",
       "      <td>1400.000000</td>\n",
       "      <td>41.150000</td>\n",
       "      <td>-104.710000</td>\n",
       "      <td>1370.000000</td>\n",
       "      <td>2.018060e+11</td>\n",
       "      <td>9.000000</td>\n",
       "      <td>14.000000</td>\n",
       "      <td>52.593990</td>\n",
       "      <td>37.474670</td>\n",
       "      <td>18.863650</td>\n",
       "      <td>14.000000</td>\n",
       "      <td>10.000000</td>\n",
       "      <td>1008.900000</td>\n",
       "      <td>722.000000</td>\n",
       "    </tr>\n",
       "    <tr>\n",
       "      <th>max</th>\n",
       "      <td>2.018100e+07</td>\n",
       "      <td>1545.000000</td>\n",
       "      <td>47.520000</td>\n",
       "      <td>-80.110000</td>\n",
       "      <td>1947.000000</td>\n",
       "      <td>2.018100e+11</td>\n",
       "      <td>12.000000</td>\n",
       "      <td>15.000000</td>\n",
       "      <td>99.987790</td>\n",
       "      <td>65.738370</td>\n",
       "      <td>34.285020</td>\n",
       "      <td>49.000000</td>\n",
       "      <td>10.000000</td>\n",
       "      <td>1029.500000</td>\n",
       "      <td>722.000000</td>\n",
       "    </tr>\n",
       "  </tbody>\n",
       "</table>\n",
       "</div>"
      ],
      "text/plain": [
       "               Date          Time      Latitude     Longitude      Altitude  \\\n",
       "count  2.104500e+04  21045.000000  21045.000000  21045.000000  21045.000000   \n",
       "mean   2.017720e+07   1267.483725     38.213823   -108.593678    798.843668   \n",
       "std    4.579585e+03    167.602767      6.323761     16.364130    770.681794   \n",
       "min    2.017052e+07   1000.000000     20.890000   -156.440000      1.000000   \n",
       "25%    2.017111e+07   1100.000000     38.160000   -117.260000      2.000000   \n",
       "50%    2.018032e+07   1300.000000     38.950000   -111.180000    458.000000   \n",
       "75%    2.018062e+07   1400.000000     41.150000   -104.710000   1370.000000   \n",
       "max    2.018100e+07   1545.000000     47.520000    -80.110000   1947.000000   \n",
       "\n",
       "         YRMODAHRMI         Month          Hour      Humidity   AmbientTemp  \\\n",
       "count  2.104500e+04  21045.000000  21045.000000  21045.000000  21045.000000   \n",
       "mean   2.017718e+11      6.565883     12.627845     37.121941     29.285117   \n",
       "std    4.579846e+07      2.983958      1.672952     23.823011     12.366820   \n",
       "min    2.017050e+11      1.000000     10.000000      0.000000    -19.981770   \n",
       "25%    2.017110e+11      4.000000     11.000000     17.529300     21.915280   \n",
       "50%    2.018030e+11      7.000000     13.000000     33.123780     30.289150   \n",
       "75%    2.018060e+11      9.000000     14.000000     52.593990     37.474670   \n",
       "max    2.018100e+11     12.000000     15.000000     99.987790     65.738370   \n",
       "\n",
       "            PolyPwr    Wind.Speed    Visibility      Pressure  Cloud.Ceiling  \n",
       "count  21045.000000  21045.000000  21045.000000  21045.000000   21045.000000  \n",
       "mean      12.978583     10.318318      9.700071    925.944747     515.966785  \n",
       "std        7.123255      6.385030      1.351949     85.215659     301.903379  \n",
       "min        0.257330      0.000000      0.000000    781.700000       0.000000  \n",
       "25%        6.404570      6.000000     10.000000    845.500000     140.000000  \n",
       "50%       13.798700      9.000000     10.000000    961.100000     722.000000  \n",
       "75%       18.863650     14.000000     10.000000   1008.900000     722.000000  \n",
       "max       34.285020     49.000000     10.000000   1029.500000     722.000000  "
      ]
     },
     "execution_count": 5,
     "metadata": {},
     "output_type": "execute_result"
    }
   ],
   "source": [
    "df.describe()"
   ]
  },
  {
   "cell_type": "code",
   "execution_count": 6,
   "metadata": {},
   "outputs": [
    {
     "data": {
      "text/plain": [
       "Location         0\n",
       "Date             0\n",
       "Time             0\n",
       "Latitude         0\n",
       "Longitude        0\n",
       "Altitude         0\n",
       "YRMODAHRMI       0\n",
       "Month            0\n",
       "Hour             0\n",
       "Season           0\n",
       "Humidity         0\n",
       "AmbientTemp      0\n",
       "PolyPwr          0\n",
       "Wind.Speed       0\n",
       "Visibility       0\n",
       "Pressure         0\n",
       "Cloud.Ceiling    0\n",
       "dtype: int64"
      ]
     },
     "execution_count": 6,
     "metadata": {},
     "output_type": "execute_result"
    }
   ],
   "source": [
    "df.isnull().sum()"
   ]
  },
  {
   "cell_type": "code",
   "execution_count": 7,
   "metadata": {},
   "outputs": [],
   "source": [
    "corr_matrix = df.corr()\n",
    "corr_with_target = corr_matrix['PolyPwr']"
   ]
  },
  {
   "cell_type": "markdown",
   "metadata": {},
   "source": [
    "We will now plot a heatmap to understand the correlation of the target feture - PolyPwr with respect to other features."
   ]
  },
  {
   "cell_type": "code",
   "execution_count": 8,
   "metadata": {},
   "outputs": [
    {
     "data": {
      "image/png": "[encoded data removed]",
      "text/plain": [
       "<Figure size 720x576 with 2 Axes>"
      ]
     },
     "metadata": {
      "needs_background": "light"
     },
     "output_type": "display_data"
    }
   ],
   "source": [
    "plt.figure(figsize=(10, 8))\n",
    "sns.heatmap(corr_matrix, annot=True, cmap='coolwarm', vmin=-1, vmax=1)\n",
    "plt.title('Correlation Heatmap')\n",
    "plt.show()"
   ]
  },
  {
   "cell_type": "markdown",
   "metadata": {},
   "source": [
    "### Data Preprocessing"
   ]
  },
  {
   "cell_type": "code",
   "execution_count": 9,
   "metadata": {},
   "outputs": [
    {
     "data": {
      "text/html": [
       "<div>\n",
       "<style scoped>\n",
       "    .dataframe tbody tr th:only-of-type {\n",
       "        vertical-align: middle;\n",
       "    }\n",
       "\n",
       "    .dataframe tbody tr th {\n",
       "        vertical-align: top;\n",
       "    }\n",
       "\n",
       "    .dataframe thead th {\n",
       "        text-align: right;\n",
       "    }\n",
       "</style>\n",
       "<table border=\"1\" class=\"dataframe\">\n",
       "  <thead>\n",
       "    <tr style=\"text-align: right;\">\n",
       "      <th></th>\n",
       "      <th>Location</th>\n",
       "      <th>Date</th>\n",
       "      <th>Time</th>\n",
       "      <th>Latitude</th>\n",
       "      <th>Longitude</th>\n",
       "      <th>Altitude</th>\n",
       "      <th>YRMODAHRMI</th>\n",
       "      <th>Month</th>\n",
       "      <th>Hour</th>\n",
       "      <th>Season</th>\n",
       "      <th>Humidity</th>\n",
       "      <th>AmbientTemp</th>\n",
       "      <th>PolyPwr</th>\n",
       "      <th>Wind.Speed</th>\n",
       "      <th>Visibility</th>\n",
       "      <th>Pressure</th>\n",
       "      <th>Cloud.Ceiling</th>\n",
       "    </tr>\n",
       "  </thead>\n",
       "  <tbody>\n",
       "    <tr>\n",
       "      <th>0</th>\n",
       "      <td>Camp Murray</td>\n",
       "      <td>20171203</td>\n",
       "      <td>1145</td>\n",
       "      <td>47.11</td>\n",
       "      <td>-122.57</td>\n",
       "      <td>84</td>\n",
       "      <td>2.017120e+11</td>\n",
       "      <td>12</td>\n",
       "      <td>11</td>\n",
       "      <td>Winter</td>\n",
       "      <td>81.71997</td>\n",
       "      <td>12.86919</td>\n",
       "      <td>2.42769</td>\n",
       "      <td>5</td>\n",
       "      <td>10.0</td>\n",
       "      <td>1010.6</td>\n",
       "      <td>722</td>\n",
       "    </tr>\n",
       "    <tr>\n",
       "      <th>1</th>\n",
       "      <td>Camp Murray</td>\n",
       "      <td>20171203</td>\n",
       "      <td>1315</td>\n",
       "      <td>47.11</td>\n",
       "      <td>-122.57</td>\n",
       "      <td>84</td>\n",
       "      <td>2.017120e+11</td>\n",
       "      <td>12</td>\n",
       "      <td>13</td>\n",
       "      <td>Winter</td>\n",
       "      <td>96.64917</td>\n",
       "      <td>9.66415</td>\n",
       "      <td>2.46273</td>\n",
       "      <td>0</td>\n",
       "      <td>10.0</td>\n",
       "      <td>1011.3</td>\n",
       "      <td>23</td>\n",
       "    </tr>\n",
       "    <tr>\n",
       "      <th>2</th>\n",
       "      <td>Camp Murray</td>\n",
       "      <td>20171203</td>\n",
       "      <td>1330</td>\n",
       "      <td>47.11</td>\n",
       "      <td>-122.57</td>\n",
       "      <td>84</td>\n",
       "      <td>2.017120e+11</td>\n",
       "      <td>12</td>\n",
       "      <td>13</td>\n",
       "      <td>Winter</td>\n",
       "      <td>93.61572</td>\n",
       "      <td>15.44983</td>\n",
       "      <td>4.46836</td>\n",
       "      <td>5</td>\n",
       "      <td>10.0</td>\n",
       "      <td>1011.6</td>\n",
       "      <td>32</td>\n",
       "    </tr>\n",
       "    <tr>\n",
       "      <th>3</th>\n",
       "      <td>Camp Murray</td>\n",
       "      <td>20171204</td>\n",
       "      <td>1230</td>\n",
       "      <td>47.11</td>\n",
       "      <td>-122.57</td>\n",
       "      <td>84</td>\n",
       "      <td>2.017120e+11</td>\n",
       "      <td>12</td>\n",
       "      <td>12</td>\n",
       "      <td>Winter</td>\n",
       "      <td>77.21558</td>\n",
       "      <td>10.36659</td>\n",
       "      <td>1.65364</td>\n",
       "      <td>5</td>\n",
       "      <td>2.0</td>\n",
       "      <td>1024.4</td>\n",
       "      <td>6</td>\n",
       "    </tr>\n",
       "    <tr>\n",
       "      <th>4</th>\n",
       "      <td>Camp Murray</td>\n",
       "      <td>20171204</td>\n",
       "      <td>1415</td>\n",
       "      <td>47.11</td>\n",
       "      <td>-122.57</td>\n",
       "      <td>84</td>\n",
       "      <td>2.017120e+11</td>\n",
       "      <td>12</td>\n",
       "      <td>14</td>\n",
       "      <td>Winter</td>\n",
       "      <td>54.80347</td>\n",
       "      <td>16.85471</td>\n",
       "      <td>6.57939</td>\n",
       "      <td>3</td>\n",
       "      <td>3.0</td>\n",
       "      <td>1023.7</td>\n",
       "      <td>9</td>\n",
       "    </tr>\n",
       "  </tbody>\n",
       "</table>\n",
       "</div>"
      ],
      "text/plain": [
       "      Location      Date  Time  Latitude  Longitude  Altitude    YRMODAHRMI  \\\n",
       "0  Camp Murray  20171203  1145     47.11    -122.57        84  2.017120e+11   \n",
       "1  Camp Murray  20171203  1315     47.11    -122.57        84  2.017120e+11   \n",
       "2  Camp Murray  20171203  1330     47.11    -122.57        84  2.017120e+11   \n",
       "3  Camp Murray  20171204  1230     47.11    -122.57        84  2.017120e+11   \n",
       "4  Camp Murray  20171204  1415     47.11    -122.57        84  2.017120e+11   \n",
       "\n",
       "   Month  Hour  Season  Humidity  AmbientTemp  PolyPwr  Wind.Speed  \\\n",
       "0     12    11  Winter  81.71997     12.86919  2.42769           5   \n",
       "1     12    13  Winter  96.64917      9.66415  2.46273           0   \n",
       "2     12    13  Winter  93.61572     15.44983  4.46836           5   \n",
       "3     12    12  Winter  77.21558     10.36659  1.65364           5   \n",
       "4     12    14  Winter  54.80347     16.85471  6.57939           3   \n",
       "\n",
       "   Visibility  Pressure  Cloud.Ceiling  \n",
       "0        10.0    1010.6            722  \n",
       "1        10.0    1011.3             23  \n",
       "2        10.0    1011.6             32  \n",
       "3         2.0    1024.4              6  \n",
       "4         3.0    1023.7              9  "
      ]
     },
     "execution_count": 9,
     "metadata": {},
     "output_type": "execute_result"
    }
   ],
   "source": [
    "df.head()"
   ]
  },
  {
   "cell_type": "markdown",
   "metadata": {},
   "source": [
    "One Hot Encoding of Locations"
   ]
  },
  {
   "cell_type": "code",
   "execution_count": 10,
   "metadata": {},
   "outputs": [],
   "source": [
    "df_location_encoded = pd.get_dummies(df, columns=['Location'])"
   ]
  },
  {
   "cell_type": "code",
   "execution_count": 11,
   "metadata": {},
   "outputs": [
    {
     "data": {
      "text/html": [
       "<div>\n",
       "<style scoped>\n",
       "    .dataframe tbody tr th:only-of-type {\n",
       "        vertical-align: middle;\n",
       "    }\n",
       "\n",
       "    .dataframe tbody tr th {\n",
       "        vertical-align: top;\n",
       "    }\n",
       "\n",
       "    .dataframe thead th {\n",
       "        text-align: right;\n",
       "    }\n",
       "</style>\n",
       "<table border=\"1\" class=\"dataframe\">\n",
       "  <thead>\n",
       "    <tr style=\"text-align: right;\">\n",
       "      <th></th>\n",
       "      <th>Date</th>\n",
       "      <th>Time</th>\n",
       "      <th>Latitude</th>\n",
       "      <th>Longitude</th>\n",
       "      <th>Altitude</th>\n",
       "      <th>YRMODAHRMI</th>\n",
       "      <th>Month</th>\n",
       "      <th>Hour</th>\n",
       "      <th>Season</th>\n",
       "      <th>Humidity</th>\n",
       "      <th>...</th>\n",
       "      <th>Location_Hill Weber</th>\n",
       "      <th>Location_JDMT</th>\n",
       "      <th>Location_Kahului</th>\n",
       "      <th>Location_MNANG</th>\n",
       "      <th>Location_Malmstrom</th>\n",
       "      <th>Location_March AFB</th>\n",
       "      <th>Location_Offutt</th>\n",
       "      <th>Location_Peterson</th>\n",
       "      <th>Location_Travis</th>\n",
       "      <th>Location_USAFA</th>\n",
       "    </tr>\n",
       "  </thead>\n",
       "  <tbody>\n",
       "    <tr>\n",
       "      <th>0</th>\n",
       "      <td>20171203</td>\n",
       "      <td>1145</td>\n",
       "      <td>47.11</td>\n",
       "      <td>-122.57</td>\n",
       "      <td>84</td>\n",
       "      <td>2.017120e+11</td>\n",
       "      <td>12</td>\n",
       "      <td>11</td>\n",
       "      <td>Winter</td>\n",
       "      <td>81.71997</td>\n",
       "      <td>...</td>\n",
       "      <td>0</td>\n",
       "      <td>0</td>\n",
       "      <td>0</td>\n",
       "      <td>0</td>\n",
       "      <td>0</td>\n",
       "      <td>0</td>\n",
       "      <td>0</td>\n",
       "      <td>0</td>\n",
       "      <td>0</td>\n",
       "      <td>0</td>\n",
       "    </tr>\n",
       "    <tr>\n",
       "      <th>1</th>\n",
       "      <td>20171203</td>\n",
       "      <td>1315</td>\n",
       "      <td>47.11</td>\n",
       "      <td>-122.57</td>\n",
       "      <td>84</td>\n",
       "      <td>2.017120e+11</td>\n",
       "      <td>12</td>\n",
       "      <td>13</td>\n",
       "      <td>Winter</td>\n",
       "      <td>96.64917</td>\n",
       "      <td>...</td>\n",
       "      <td>0</td>\n",
       "      <td>0</td>\n",
       "      <td>0</td>\n",
       "      <td>0</td>\n",
       "      <td>0</td>\n",
       "      <td>0</td>\n",
       "      <td>0</td>\n",
       "      <td>0</td>\n",
       "      <td>0</td>\n",
       "      <td>0</td>\n",
       "    </tr>\n",
       "    <tr>\n",
       "      <th>2</th>\n",
       "      <td>20171203</td>\n",
       "      <td>1330</td>\n",
       "      <td>47.11</td>\n",
       "      <td>-122.57</td>\n",
       "      <td>84</td>\n",
       "      <td>2.017120e+11</td>\n",
       "      <td>12</td>\n",
       "      <td>13</td>\n",
       "      <td>Winter</td>\n",
       "      <td>93.61572</td>\n",
       "      <td>...</td>\n",
       "      <td>0</td>\n",
       "      <td>0</td>\n",
       "      <td>0</td>\n",
       "      <td>0</td>\n",
       "      <td>0</td>\n",
       "      <td>0</td>\n",
       "      <td>0</td>\n",
       "      <td>0</td>\n",
       "      <td>0</td>\n",
       "      <td>0</td>\n",
       "    </tr>\n",
       "    <tr>\n",
       "      <th>3</th>\n",
       "      <td>20171204</td>\n",
       "      <td>1230</td>\n",
       "      <td>47.11</td>\n",
       "      <td>-122.57</td>\n",
       "      <td>84</td>\n",
       "      <td>2.017120e+11</td>\n",
       "      <td>12</td>\n",
       "      <td>12</td>\n",
       "      <td>Winter</td>\n",
       "      <td>77.21558</td>\n",
       "      <td>...</td>\n",
       "      <td>0</td>\n",
       "      <td>0</td>\n",
       "      <td>0</td>\n",
       "      <td>0</td>\n",
       "      <td>0</td>\n",
       "      <td>0</td>\n",
       "      <td>0</td>\n",
       "      <td>0</td>\n",
       "      <td>0</td>\n",
       "      <td>0</td>\n",
       "    </tr>\n",
       "    <tr>\n",
       "      <th>4</th>\n",
       "      <td>20171204</td>\n",
       "      <td>1415</td>\n",
       "      <td>47.11</td>\n",
       "      <td>-122.57</td>\n",
       "      <td>84</td>\n",
       "      <td>2.017120e+11</td>\n",
       "      <td>12</td>\n",
       "      <td>14</td>\n",
       "      <td>Winter</td>\n",
       "      <td>54.80347</td>\n",
       "      <td>...</td>\n",
       "      <td>0</td>\n",
       "      <td>0</td>\n",
       "      <td>0</td>\n",
       "      <td>0</td>\n",
       "      <td>0</td>\n",
       "      <td>0</td>\n",
       "      <td>0</td>\n",
       "      <td>0</td>\n",
       "      <td>0</td>\n",
       "      <td>0</td>\n",
       "    </tr>\n",
       "  </tbody>\n",
       "</table>\n",
       "<p>5 rows × 28 columns</p>\n",
       "</div>"
      ],
      "text/plain": [
       "       Date  Time  Latitude  Longitude  Altitude    YRMODAHRMI  Month  Hour  \\\n",
       "0  20171203  1145     47.11    -122.57        84  2.017120e+11     12    11   \n",
       "1  20171203  1315     47.11    -122.57        84  2.017120e+11     12    13   \n",
       "2  20171203  1330     47.11    -122.57        84  2.017120e+11     12    13   \n",
       "3  20171204  1230     47.11    -122.57        84  2.017120e+11     12    12   \n",
       "4  20171204  1415     47.11    -122.57        84  2.017120e+11     12    14   \n",
       "\n",
       "   Season  Humidity  ...  Location_Hill Weber  Location_JDMT  \\\n",
       "0  Winter  81.71997  ...                    0              0   \n",
       "1  Winter  96.64917  ...                    0              0   \n",
       "2  Winter  93.61572  ...                    0              0   \n",
       "3  Winter  77.21558  ...                    0              0   \n",
       "4  Winter  54.80347  ...                    0              0   \n",
       "\n",
       "   Location_Kahului  Location_MNANG  Location_Malmstrom  Location_March AFB  \\\n",
       "0                 0               0                   0                   0   \n",
       "1                 0               0                   0                   0   \n",
       "2                 0               0                   0                   0   \n",
       "3                 0               0                   0                   0   \n",
       "4                 0               0                   0                   0   \n",
       "\n",
       "   Location_Offutt  Location_Peterson  Location_Travis  Location_USAFA  \n",
       "0                0                  0                0               0  \n",
       "1                0                  0                0               0  \n",
       "2                0                  0                0               0  \n",
       "3                0                  0                0               0  \n",
       "4                0                  0                0               0  \n",
       "\n",
       "[5 rows x 28 columns]"
      ]
     },
     "execution_count": 11,
     "metadata": {},
     "output_type": "execute_result"
    }
   ],
   "source": [
    "df_location_encoded.head()"
   ]
  },
  {
   "cell_type": "code",
   "execution_count": 13,
   "metadata": {},
   "outputs": [
    {
     "data": {
      "text/plain": [
       "Index(['Date', 'Time', 'Latitude', 'Longitude', 'Altitude', 'YRMODAHRMI',\n",
       "       'Month', 'Hour', 'Season', 'Humidity', 'AmbientTemp', 'PolyPwr',\n",
       "       'Wind.Speed', 'Visibility', 'Pressure', 'Cloud.Ceiling',\n",
       "       'Location_Camp Murray', 'Location_Grissom', 'Location_Hill Weber',\n",
       "       'Location_JDMT', 'Location_Kahului', 'Location_MNANG',\n",
       "       'Location_Malmstrom', 'Location_March AFB', 'Location_Offutt',\n",
       "       'Location_Peterson', 'Location_Travis', 'Location_USAFA'],\n",
       "      dtype='object')"
      ]
     },
     "execution_count": 13,
     "metadata": {},
     "output_type": "execute_result"
    }
   ],
   "source": [
    "df_location_encoded.columns"
   ]
  },
  {
   "cell_type": "markdown",
   "metadata": {},
   "source": [
    "One Hot Encoding of Seasons"
   ]
  },
  {
   "cell_type": "code",
   "execution_count": 14,
   "metadata": {},
   "outputs": [],
   "source": [
    "df_location_season_encoded = pd.get_dummies(df_location_encoded, columns=['Season'])"
   ]
  },
  {
   "cell_type": "code",
   "execution_count": 15,
   "metadata": {},
   "outputs": [
    {
     "data": {
      "text/html": [
       "<div>\n",
       "<style scoped>\n",
       "    .dataframe tbody tr th:only-of-type {\n",
       "        vertical-align: middle;\n",
       "    }\n",
       "\n",
       "    .dataframe tbody tr th {\n",
       "        vertical-align: top;\n",
       "    }\n",
       "\n",
       "    .dataframe thead th {\n",
       "        text-align: right;\n",
       "    }\n",
       "</style>\n",
       "<table border=\"1\" class=\"dataframe\">\n",
       "  <thead>\n",
       "    <tr style=\"text-align: right;\">\n",
       "      <th></th>\n",
       "      <th>Date</th>\n",
       "      <th>Time</th>\n",
       "      <th>Latitude</th>\n",
       "      <th>Longitude</th>\n",
       "      <th>Altitude</th>\n",
       "      <th>YRMODAHRMI</th>\n",
       "      <th>Month</th>\n",
       "      <th>Hour</th>\n",
       "      <th>Humidity</th>\n",
       "      <th>AmbientTemp</th>\n",
       "      <th>...</th>\n",
       "      <th>Location_Malmstrom</th>\n",
       "      <th>Location_March AFB</th>\n",
       "      <th>Location_Offutt</th>\n",
       "      <th>Location_Peterson</th>\n",
       "      <th>Location_Travis</th>\n",
       "      <th>Location_USAFA</th>\n",
       "      <th>Season_Fall</th>\n",
       "      <th>Season_Spring</th>\n",
       "      <th>Season_Summer</th>\n",
       "      <th>Season_Winter</th>\n",
       "    </tr>\n",
       "  </thead>\n",
       "  <tbody>\n",
       "    <tr>\n",
       "      <th>0</th>\n",
       "      <td>20171203</td>\n",
       "      <td>1145</td>\n",
       "      <td>47.11</td>\n",
       "      <td>-122.57</td>\n",
       "      <td>84</td>\n",
       "      <td>2.017120e+11</td>\n",
       "      <td>12</td>\n",
       "      <td>11</td>\n",
       "      <td>81.71997</td>\n",
       "      <td>12.86919</td>\n",
       "      <td>...</td>\n",
       "      <td>0</td>\n",
       "      <td>0</td>\n",
       "      <td>0</td>\n",
       "      <td>0</td>\n",
       "      <td>0</td>\n",
       "      <td>0</td>\n",
       "      <td>0</td>\n",
       "      <td>0</td>\n",
       "      <td>0</td>\n",
       "      <td>1</td>\n",
       "    </tr>\n",
       "    <tr>\n",
       "      <th>1</th>\n",
       "      <td>20171203</td>\n",
       "      <td>1315</td>\n",
       "      <td>47.11</td>\n",
       "      <td>-122.57</td>\n",
       "      <td>84</td>\n",
       "      <td>2.017120e+11</td>\n",
       "      <td>12</td>\n",
       "      <td>13</td>\n",
       "      <td>96.64917</td>\n",
       "      <td>9.66415</td>\n",
       "      <td>...</td>\n",
       "      <td>0</td>\n",
       "      <td>0</td>\n",
       "      <td>0</td>\n",
       "      <td>0</td>\n",
       "      <td>0</td>\n",
       "      <td>0</td>\n",
       "      <td>0</td>\n",
       "      <td>0</td>\n",
       "      <td>0</td>\n",
       "      <td>1</td>\n",
       "    </tr>\n",
       "    <tr>\n",
       "      <th>2</th>\n",
       "      <td>20171203</td>\n",
       "      <td>1330</td>\n",
       "      <td>47.11</td>\n",
       "      <td>-122.57</td>\n",
       "      <td>84</td>\n",
       "      <td>2.017120e+11</td>\n",
       "      <td>12</td>\n",
       "      <td>13</td>\n",
       "      <td>93.61572</td>\n",
       "      <td>15.44983</td>\n",
       "      <td>...</td>\n",
       "      <td>0</td>\n",
       "      <td>0</td>\n",
       "      <td>0</td>\n",
       "      <td>0</td>\n",
       "      <td>0</td>\n",
       "      <td>0</td>\n",
       "      <td>0</td>\n",
       "      <td>0</td>\n",
       "      <td>0</td>\n",
       "      <td>1</td>\n",
       "    </tr>\n",
       "    <tr>\n",
       "      <th>3</th>\n",
       "      <td>20171204</td>\n",
       "      <td>1230</td>\n",
       "      <td>47.11</td>\n",
       "      <td>-122.57</td>\n",
       "      <td>84</td>\n",
       "      <td>2.017120e+11</td>\n",
       "      <td>12</td>\n",
       "      <td>12</td>\n",
       "      <td>77.21558</td>\n",
       "      <td>10.36659</td>\n",
       "      <td>...</td>\n",
       "      <td>0</td>\n",
       "      <td>0</td>\n",
       "      <td>0</td>\n",
       "      <td>0</td>\n",
       "      <td>0</td>\n",
       "      <td>0</td>\n",
       "      <td>0</td>\n",
       "      <td>0</td>\n",
       "      <td>0</td>\n",
       "      <td>1</td>\n",
       "    </tr>\n",
       "    <tr>\n",
       "      <th>4</th>\n",
       "      <td>20171204</td>\n",
       "      <td>1415</td>\n",
       "      <td>47.11</td>\n",
       "      <td>-122.57</td>\n",
       "      <td>84</td>\n",
       "      <td>2.017120e+11</td>\n",
       "      <td>12</td>\n",
       "      <td>14</td>\n",
       "      <td>54.80347</td>\n",
       "      <td>16.85471</td>\n",
       "      <td>...</td>\n",
       "      <td>0</td>\n",
       "      <td>0</td>\n",
       "      <td>0</td>\n",
       "      <td>0</td>\n",
       "      <td>0</td>\n",
       "      <td>0</td>\n",
       "      <td>0</td>\n",
       "      <td>0</td>\n",
       "      <td>0</td>\n",
       "      <td>1</td>\n",
       "    </tr>\n",
       "  </tbody>\n",
       "</table>\n",
       "<p>5 rows × 31 columns</p>\n",
       "</div>"
      ],
      "text/plain": [
       "       Date  Time  Latitude  Longitude  Altitude    YRMODAHRMI  Month  Hour  \\\n",
       "0  20171203  1145     47.11    -122.57        84  2.017120e+11     12    11   \n",
       "1  20171203  1315     47.11    -122.57        84  2.017120e+11     12    13   \n",
       "2  20171203  1330     47.11    -122.57        84  2.017120e+11     12    13   \n",
       "3  20171204  1230     47.11    -122.57        84  2.017120e+11     12    12   \n",
       "4  20171204  1415     47.11    -122.57        84  2.017120e+11     12    14   \n",
       "\n",
       "   Humidity  AmbientTemp  ...  Location_Malmstrom  Location_March AFB  \\\n",
       "0  81.71997     12.86919  ...                   0                   0   \n",
       "1  96.64917      9.66415  ...                   0                   0   \n",
       "2  93.61572     15.44983  ...                   0                   0   \n",
       "3  77.21558     10.36659  ...                   0                   0   \n",
       "4  54.80347     16.85471  ...                   0                   0   \n",
       "\n",
       "   Location_Offutt  Location_Peterson  Location_Travis  Location_USAFA  \\\n",
       "0                0                  0                0               0   \n",
       "1                0                  0                0               0   \n",
       "2                0                  0                0               0   \n",
       "3                0                  0                0               0   \n",
       "4                0                  0                0               0   \n",
       "\n",
       "   Season_Fall  Season_Spring  Season_Summer  Season_Winter  \n",
       "0            0              0              0              1  \n",
       "1            0              0              0              1  \n",
       "2            0              0              0              1  \n",
       "3            0              0              0              1  \n",
       "4            0              0              0              1  \n",
       "\n",
       "[5 rows x 31 columns]"
      ]
     },
     "execution_count": 15,
     "metadata": {},
     "output_type": "execute_result"
    }
   ],
   "source": [
    "df_location_season_encoded.head()"
   ]
  },
  {
   "cell_type": "markdown",
   "metadata": {},
   "source": [
    "### Modeling"
   ]
  },
  {
   "cell_type": "markdown",
   "metadata": {},
   "source": [
    "Attributes such as Date, Longitude, Loaction, Season, etc. are not required for modeling. Hence, we will not consider them for modeling."
   ]
  },
  {
   "cell_type": "code",
   "execution_count": 16,
   "metadata": {},
   "outputs": [],
   "source": [
    "selected_cols = [\n",
    "    'Latitude',\n",
    "    'Humidity', 'AmbientTemp',  \n",
    "    'PolyPwr', 'Wind.Speed', 'Visibility', \n",
    "    'Pressure', 'Cloud.Ceiling','Location_Camp Murray', 'Location_Grissom', \n",
    "    'Location_Hill Weber', 'Location_JDMT', \n",
    "    'Location_Kahului', 'Location_MNANG', \n",
    "    'Location_Malmstrom', 'Location_March AFB', \n",
    "    'Location_Offutt', 'Location_Peterson', \n",
    "    'Location_Travis', \n",
    "    'Location_USAFA','Season_Fall','Season_Spring', \n",
    "    'Season_Summer', 'Season_Winter', 'Hour','Time'\n",
    "]"
   ]
  },
  {
   "cell_type": "markdown",
   "metadata": {},
   "source": [
    "We will use the KNN (K-Nearest Neighbours) model as a baseline for further models that we develop in this notebook."
   ]
  },
  {
   "cell_type": "markdown",
   "metadata": {},
   "source": [
    "Let us now create a final new dataframe with the selected final features, and the target feature - PolyPwr."
   ]
  },
  {
   "cell_type": "code",
   "execution_count": 17,
   "metadata": {},
   "outputs": [],
   "source": [
    "df_processed = df_location_season_encoded[selected_cols].reset_index(drop=True)"
   ]
  },
  {
   "cell_type": "code",
   "execution_count": 18,
   "metadata": {},
   "outputs": [
    {
     "data": {
      "text/html": [
       "<div>\n",
       "<style scoped>\n",
       "    .dataframe tbody tr th:only-of-type {\n",
       "        vertical-align: middle;\n",
       "    }\n",
       "\n",
       "    .dataframe tbody tr th {\n",
       "        vertical-align: top;\n",
       "    }\n",
       "\n",
       "    .dataframe thead th {\n",
       "        text-align: right;\n",
       "    }\n",
       "</style>\n",
       "<table border=\"1\" class=\"dataframe\">\n",
       "  <thead>\n",
       "    <tr style=\"text-align: right;\">\n",
       "      <th></th>\n",
       "      <th>Latitude</th>\n",
       "      <th>Humidity</th>\n",
       "      <th>AmbientTemp</th>\n",
       "      <th>PolyPwr</th>\n",
       "      <th>Wind.Speed</th>\n",
       "      <th>Visibility</th>\n",
       "      <th>Pressure</th>\n",
       "      <th>Cloud.Ceiling</th>\n",
       "      <th>Location_Camp Murray</th>\n",
       "      <th>Location_Grissom</th>\n",
       "      <th>...</th>\n",
       "      <th>Location_Offutt</th>\n",
       "      <th>Location_Peterson</th>\n",
       "      <th>Location_Travis</th>\n",
       "      <th>Location_USAFA</th>\n",
       "      <th>Season_Fall</th>\n",
       "      <th>Season_Spring</th>\n",
       "      <th>Season_Summer</th>\n",
       "      <th>Season_Winter</th>\n",
       "      <th>Hour</th>\n",
       "      <th>Time</th>\n",
       "    </tr>\n",
       "  </thead>\n",
       "  <tbody>\n",
       "    <tr>\n",
       "      <th>0</th>\n",
       "      <td>47.11</td>\n",
       "      <td>81.71997</td>\n",
       "      <td>12.86919</td>\n",
       "      <td>2.42769</td>\n",
       "      <td>5</td>\n",
       "      <td>10.0</td>\n",
       "      <td>1010.6</td>\n",
       "      <td>722</td>\n",
       "      <td>1</td>\n",
       "      <td>0</td>\n",
       "      <td>...</td>\n",
       "      <td>0</td>\n",
       "      <td>0</td>\n",
       "      <td>0</td>\n",
       "      <td>0</td>\n",
       "      <td>0</td>\n",
       "      <td>0</td>\n",
       "      <td>0</td>\n",
       "      <td>1</td>\n",
       "      <td>11</td>\n",
       "      <td>1145</td>\n",
       "    </tr>\n",
       "    <tr>\n",
       "      <th>1</th>\n",
       "      <td>47.11</td>\n",
       "      <td>96.64917</td>\n",
       "      <td>9.66415</td>\n",
       "      <td>2.46273</td>\n",
       "      <td>0</td>\n",
       "      <td>10.0</td>\n",
       "      <td>1011.3</td>\n",
       "      <td>23</td>\n",
       "      <td>1</td>\n",
       "      <td>0</td>\n",
       "      <td>...</td>\n",
       "      <td>0</td>\n",
       "      <td>0</td>\n",
       "      <td>0</td>\n",
       "      <td>0</td>\n",
       "      <td>0</td>\n",
       "      <td>0</td>\n",
       "      <td>0</td>\n",
       "      <td>1</td>\n",
       "      <td>13</td>\n",
       "      <td>1315</td>\n",
       "    </tr>\n",
       "    <tr>\n",
       "      <th>2</th>\n",
       "      <td>47.11</td>\n",
       "      <td>93.61572</td>\n",
       "      <td>15.44983</td>\n",
       "      <td>4.46836</td>\n",
       "      <td>5</td>\n",
       "      <td>10.0</td>\n",
       "      <td>1011.6</td>\n",
       "      <td>32</td>\n",
       "      <td>1</td>\n",
       "      <td>0</td>\n",
       "      <td>...</td>\n",
       "      <td>0</td>\n",
       "      <td>0</td>\n",
       "      <td>0</td>\n",
       "      <td>0</td>\n",
       "      <td>0</td>\n",
       "      <td>0</td>\n",
       "      <td>0</td>\n",
       "      <td>1</td>\n",
       "      <td>13</td>\n",
       "      <td>1330</td>\n",
       "    </tr>\n",
       "    <tr>\n",
       "      <th>3</th>\n",
       "      <td>47.11</td>\n",
       "      <td>77.21558</td>\n",
       "      <td>10.36659</td>\n",
       "      <td>1.65364</td>\n",
       "      <td>5</td>\n",
       "      <td>2.0</td>\n",
       "      <td>1024.4</td>\n",
       "      <td>6</td>\n",
       "      <td>1</td>\n",
       "      <td>0</td>\n",
       "      <td>...</td>\n",
       "      <td>0</td>\n",
       "      <td>0</td>\n",
       "      <td>0</td>\n",
       "      <td>0</td>\n",
       "      <td>0</td>\n",
       "      <td>0</td>\n",
       "      <td>0</td>\n",
       "      <td>1</td>\n",
       "      <td>12</td>\n",
       "      <td>1230</td>\n",
       "    </tr>\n",
       "    <tr>\n",
       "      <th>4</th>\n",
       "      <td>47.11</td>\n",
       "      <td>54.80347</td>\n",
       "      <td>16.85471</td>\n",
       "      <td>6.57939</td>\n",
       "      <td>3</td>\n",
       "      <td>3.0</td>\n",
       "      <td>1023.7</td>\n",
       "      <td>9</td>\n",
       "      <td>1</td>\n",
       "      <td>0</td>\n",
       "      <td>...</td>\n",
       "      <td>0</td>\n",
       "      <td>0</td>\n",
       "      <td>0</td>\n",
       "      <td>0</td>\n",
       "      <td>0</td>\n",
       "      <td>0</td>\n",
       "      <td>0</td>\n",
       "      <td>1</td>\n",
       "      <td>14</td>\n",
       "      <td>1415</td>\n",
       "    </tr>\n",
       "  </tbody>\n",
       "</table>\n",
       "<p>5 rows × 26 columns</p>\n",
       "</div>"
      ],
      "text/plain": [
       "   Latitude  Humidity  AmbientTemp  PolyPwr  Wind.Speed  Visibility  Pressure  \\\n",
       "0     47.11  81.71997     12.86919  2.42769           5        10.0    1010.6   \n",
       "1     47.11  96.64917      9.66415  2.46273           0        10.0    1011.3   \n",
       "2     47.11  93.61572     15.44983  4.46836           5        10.0    1011.6   \n",
       "3     47.11  77.21558     10.36659  1.65364           5         2.0    1024.4   \n",
       "4     47.11  54.80347     16.85471  6.57939           3         3.0    1023.7   \n",
       "\n",
       "   Cloud.Ceiling  Location_Camp Murray  Location_Grissom  ...  \\\n",
       "0            722                     1                 0  ...   \n",
       "1             23                     1                 0  ...   \n",
       "2             32                     1                 0  ...   \n",
       "3              6                     1                 0  ...   \n",
       "4              9                     1                 0  ...   \n",
       "\n",
       "   Location_Offutt  Location_Peterson  Location_Travis  Location_USAFA  \\\n",
       "0                0                  0                0               0   \n",
       "1                0                  0                0               0   \n",
       "2                0                  0                0               0   \n",
       "3                0                  0                0               0   \n",
       "4                0                  0                0               0   \n",
       "\n",
       "   Season_Fall  Season_Spring  Season_Summer  Season_Winter  Hour  Time  \n",
       "0            0              0              0              1    11  1145  \n",
       "1            0              0              0              1    13  1315  \n",
       "2            0              0              0              1    13  1330  \n",
       "3            0              0              0              1    12  1230  \n",
       "4            0              0              0              1    14  1415  \n",
       "\n",
       "[5 rows x 26 columns]"
      ]
     },
     "execution_count": 18,
     "metadata": {},
     "output_type": "execute_result"
    }
   ],
   "source": [
    "df_processed.head()"
   ]
  },
  {
   "cell_type": "code",
   "execution_count": 19,
   "metadata": {},
   "outputs": [
    {
     "name": "stdout",
     "output_type": "stream",
     "text": [
      "<class 'pandas.core.frame.DataFrame'>\n",
      "RangeIndex: 21045 entries, 0 to 21044\n",
      "Data columns (total 26 columns):\n",
      " #   Column                Non-Null Count  Dtype  \n",
      "---  ------                --------------  -----  \n",
      " 0   Latitude              21045 non-null  float64\n",
      " 1   Humidity              21045 non-null  float64\n",
      " 2   AmbientTemp           21045 non-null  float64\n",
      " 3   PolyPwr               21045 non-null  float64\n",
      " 4   Wind.Speed            21045 non-null  int64  \n",
      " 5   Visibility            21045 non-null  float64\n",
      " 6   Pressure              21045 non-null  float64\n",
      " 7   Cloud.Ceiling         21045 non-null  int64  \n",
      " 8   Location_Camp Murray  21045 non-null  uint8  \n",
      " 9   Location_Grissom      21045 non-null  uint8  \n",
      " 10  Location_Hill Weber   21045 non-null  uint8  \n",
      " 11  Location_JDMT         21045 non-null  uint8  \n",
      " 12  Location_Kahului      21045 non-null  uint8  \n",
      " 13  Location_MNANG        21045 non-null  uint8  \n",
      " 14  Location_Malmstrom    21045 non-null  uint8  \n",
      " 15  Location_March AFB    21045 non-null  uint8  \n",
      " 16  Location_Offutt       21045 non-null  uint8  \n",
      " 17  Location_Peterson     21045 non-null  uint8  \n",
      " 18  Location_Travis       21045 non-null  uint8  \n",
      " 19  Location_USAFA        21045 non-null  uint8  \n",
      " 20  Season_Fall           21045 non-null  uint8  \n",
      " 21  Season_Spring         21045 non-null  uint8  \n",
      " 22  Season_Summer         21045 non-null  uint8  \n",
      " 23  Season_Winter         21045 non-null  uint8  \n",
      " 24  Hour                  21045 non-null  int64  \n",
      " 25  Time                  21045 non-null  int64  \n",
      "dtypes: float64(6), int64(4), uint8(16)\n",
      "memory usage: 1.9 MB\n"
     ]
    }
   ],
   "source": [
    "df_processed.info()"
   ]
  },
  {
   "cell_type": "code",
   "execution_count": 20,
   "metadata": {},
   "outputs": [],
   "source": [
    "target = 'PolyPwr'"
   ]
  },
  {
   "cell_type": "code",
   "execution_count": 21,
   "metadata": {},
   "outputs": [],
   "source": [
    "input_feat = list(set(selected_cols).difference(set([target])))"
   ]
  },
  {
   "cell_type": "markdown",
   "metadata": {},
   "source": [
    "Train, test and split!"
   ]
  },
  {
   "cell_type": "code",
   "execution_count": 22,
   "metadata": {},
   "outputs": [
    {
     "name": "stdout",
     "output_type": "stream",
     "text": [
      "['Wind.Speed', 'Hour', 'Location_Malmstrom', 'AmbientTemp', 'Humidity', 'Location_Kahului', 'Location_USAFA', 'Location_JDMT', 'Location_Travis', 'Location_MNANG', 'Location_Camp Murray', 'Location_March AFB', 'Location_Peterson', 'Time', 'Location_Grissom', 'Latitude', 'Visibility', 'Season_Winter', 'Cloud.Ceiling', 'Season_Summer', 'Season_Spring', 'Location_Offutt', 'Location_Hill Weber', 'Season_Fall', 'Pressure']\n"
     ]
    }
   ],
   "source": [
    "print(input_feat)"
   ]
  },
  {
   "cell_type": "code",
   "execution_count": 23,
   "metadata": {},
   "outputs": [],
   "source": [
    "df_X = df_processed[input_feat].reset_index(drop=True)\n",
    "df_y = df_processed[target]"
   ]
  },
  {
   "cell_type": "code",
   "execution_count": 24,
   "metadata": {},
   "outputs": [],
   "source": [
    "from sklearn.model_selection import train_test_split, GridSearchCV\n",
    "from sklearn.metrics import explained_variance_score, mean_absolute_error, mean_squared_error, mean_absolute_percentage_error, r2_score"
   ]
  },
  {
   "cell_type": "code",
   "execution_count": 25,
   "metadata": {},
   "outputs": [],
   "source": [
    "X_train, X_test, y_train, y_test = train_test_split(df_X, df_y, test_size=0.2, random_state=42)"
   ]
  },
  {
   "cell_type": "markdown",
   "metadata": {},
   "source": [
    "Creating the baseline KNN Regression model as deecided earlier"
   ]
  },
  {
   "cell_type": "code",
   "execution_count": 26,
   "metadata": {},
   "outputs": [],
   "source": [
    "from sklearn.neighbors import KNeighborsRegressor"
   ]
  },
  {
   "cell_type": "code",
   "execution_count": 27,
   "metadata": {},
   "outputs": [],
   "source": [
    "# Create the KNN regression model\n",
    "knn_reg = KNeighborsRegressor()\n",
    "\n",
    "# Define the hyperparameter grid\n",
    "param_grid = {\n",
    "    'n_neighbors': [3, 5, 7, 9, 11] \n",
    "}"
   ]
  },
  {
   "cell_type": "code",
   "execution_count": 28,
   "metadata": {},
   "outputs": [],
   "source": [
    "grid_search = GridSearchCV(knn_reg, param_grid, cv=5, scoring='neg_mean_squared_error')"
   ]
  },
  {
   "cell_type": "code",
   "execution_count": 29,
   "metadata": {},
   "outputs": [
    {
     "data": {
      "text/plain": [
       "GridSearchCV(cv=5, estimator=KNeighborsRegressor(),\n",
       "             param_grid={'n_neighbors': [3, 5, 7, 9, 11]},\n",
       "             scoring='neg_mean_squared_error')"
      ]
     },
     "execution_count": 29,
     "metadata": {},
     "output_type": "execute_result"
    }
   ],
   "source": [
    "grid_search.fit(X_train, y_train)"
   ]
  },
  {
   "cell_type": "code",
   "execution_count": 30,
   "metadata": {},
   "outputs": [],
   "source": [
    "best_n_neighbors = grid_search.best_params_['n_neighbors']"
   ]
  },
  {
   "cell_type": "code",
   "execution_count": 31,
   "metadata": {},
   "outputs": [
    {
     "data": {
      "text/plain": [
       "KNeighborsRegressor(n_neighbors=11)"
      ]
     },
     "execution_count": 31,
     "metadata": {},
     "output_type": "execute_result"
    }
   ],
   "source": [
    "best_knn_reg = KNeighborsRegressor(n_neighbors=best_n_neighbors)\n",
    "best_knn_reg.fit(X_train, y_train)"
   ]
  },
  {
   "cell_type": "code",
   "execution_count": 32,
   "metadata": {},
   "outputs": [
    {
     "name": "stdout",
     "output_type": "stream",
     "text": [
      "Mean Squared Error (MSE): 24.222122194946234\n",
      "Root Mean Squared Error (RMSE): 4.921597524681009\n",
      "R-squared (R2) Score: 0.5231913346706577\n"
     ]
    }
   ],
   "source": [
    "y_pred_knn = best_knn_reg.predict(X_test)\n",
    "\n",
    "mse_knn = mean_squared_error(y_test, y_pred_knn)\n",
    "\n",
    "rmse_knn = np.sqrt(mse_knn)\n",
    "\n",
    "r2_knn = r2_score(y_test, y_pred_knn)\n",
    "\n",
    "print(f\"Mean Squared Error (MSE): {mse_knn}\")\n",
    "print(f\"Root Mean Squared Error (RMSE): {rmse_knn}\")\n",
    "print(f\"R-squared (R2) Score: {r2_knn}\")"
   ]
  },
  {
   "cell_type": "markdown",
   "metadata": {},
   "source": [
    "1. Linear Regression Model"
   ]
  },
  {
   "cell_type": "code",
   "execution_count": 33,
   "metadata": {},
   "outputs": [],
   "source": [
    "from sklearn.linear_model import LinearRegression"
   ]
  },
  {
   "cell_type": "code",
   "execution_count": 34,
   "metadata": {},
   "outputs": [],
   "source": [
    "linear_reg = LinearRegression()"
   ]
  },
  {
   "cell_type": "code",
   "execution_count": 35,
   "metadata": {},
   "outputs": [
    {
     "data": {
      "text/plain": [
       "LinearRegression()"
      ]
     },
     "execution_count": 35,
     "metadata": {},
     "output_type": "execute_result"
    }
   ],
   "source": [
    "linear_reg.fit(X_train, y_train)"
   ]
  },
  {
   "cell_type": "code",
   "execution_count": 36,
   "metadata": {},
   "outputs": [
    {
     "name": "stdout",
     "output_type": "stream",
     "text": [
      "Mean Squared Error (MSE): 23.69133542574051\n",
      "Root Mean Squared Error (RMSE): 4.867374592708117\n",
      "R-squared (R2) Score: 0.5336397887310644\n"
     ]
    }
   ],
   "source": [
    "y_pred_lr = linear_reg.predict(X_test)\n",
    "\n",
    "mse_lr = mean_squared_error(y_test, y_pred_lr)\n",
    "\n",
    "rmse_lr = np.sqrt(mse_lr)\n",
    "\n",
    "r2_lr = r2_score(y_test, y_pred_lr)\n",
    "\n",
    "print(f\"Mean Squared Error (MSE): {mse_lr}\")\n",
    "print(f\"Root Mean Squared Error (RMSE): {rmse_lr}\")\n",
    "print(f\"R-squared (R2) Score: {r2_lr}\")"
   ]
  },
  {
   "cell_type": "markdown",
   "metadata": {},
   "source": [
    "2. XGBoost Regression Model (Extreme Gradient Boosting)"
   ]
  },
  {
   "cell_type": "code",
   "execution_count": 37,
   "metadata": {},
   "outputs": [],
   "source": [
    "import xgboost as xgb"
   ]
  },
  {
   "cell_type": "code",
   "execution_count": 38,
   "metadata": {},
   "outputs": [
    {
     "data": {
      "text/plain": [
       "XGBRegressor(base_score=None, booster=None, callbacks=None,\n",
       "             colsample_bylevel=None, colsample_bynode=None,\n",
       "             colsample_bytree=None, early_stopping_rounds=None,\n",
       "             enable_categorical=False, eval_metric=None, feature_types=None,\n",
       "             gamma=None, gpu_id=None, grow_policy=None, importance_type=None,\n",
       "             interaction_constraints=None, learning_rate=None, max_bin=None,\n",
       "             max_cat_threshold=None, max_cat_to_onehot=None,\n",
       "             max_delta_step=None, max_depth=None, max_leaves=None,\n",
       "             min_child_weight=None, missing=nan, monotone_constraints=None,\n",
       "             n_estimators=100, n_jobs=None, num_parallel_tree=None,\n",
       "             predictor=None, random_state=42, ...)"
      ]
     },
     "execution_count": 38,
     "metadata": {},
     "output_type": "execute_result"
    }
   ],
   "source": [
    "xgb_reg = xgb.XGBRegressor(objective='reg:squarederror', random_state=42)\n",
    "xgb_reg.fit(X_train, y_train)"
   ]
  },
  {
   "cell_type": "code",
   "execution_count": 39,
   "metadata": {},
   "outputs": [
    {
     "data": {
      "text/plain": [
       "XGBRegressor(base_score=None, booster=None, callbacks=None,\n",
       "             colsample_bylevel=None, colsample_bynode=None,\n",
       "             colsample_bytree=None, early_stopping_rounds=None,\n",
       "             enable_categorical=False, eval_metric=None, feature_types=None,\n",
       "             gamma=None, gpu_id=None, grow_policy=None, importance_type=None,\n",
       "             interaction_constraints=None, learning_rate=0.1, max_bin=None,\n",
       "             max_cat_threshold=None, max_cat_to_onehot=None,\n",
       "             max_delta_step=None, max_depth=5, max_leaves=None,\n",
       "             min_child_weight=3, missing=nan, monotone_constraints=None,\n",
       "             n_estimators=200, n_jobs=None, num_parallel_tree=None,\n",
       "             predictor=None, random_state=42, ...)"
      ]
     },
     "execution_count": 39,
     "metadata": {},
     "output_type": "execute_result"
    }
   ],
   "source": [
    "# Define a grid of hyperparameters to search over\n",
    "param_grid = {\n",
    "    'n_estimators': [100, 200, 300],\n",
    "    'learning_rate': [0.01, 0.1, 0.2],\n",
    "    'max_depth': [3, 4, 5],\n",
    "    'min_child_weight': [1, 2, 3]\n",
    "}\n",
    "\n",
    "# Create the GridSearchCV object\n",
    "grid_search = GridSearchCV(xgb_reg, param_grid, cv=5, scoring='neg_mean_squared_error')\n",
    "\n",
    "# Fit the grid search to your training data\n",
    "grid_search.fit(X_train, y_train)\n",
    "\n",
    "# Get the best hyperparameters\n",
    "best_params = grid_search.best_params_\n",
    "\n",
    "# Create a new XGBoost model with the best hyperparameters\n",
    "best_xgb_reg = xgb.XGBRegressor(objective='reg:squarederror', random_state=42, **best_params)\n",
    "\n",
    "# Train the best model on the training data\n",
    "best_xgb_reg.fit(X_train, y_train)"
   ]
  },
  {
   "cell_type": "code",
   "execution_count": 40,
   "metadata": {},
   "outputs": [
    {
     "name": "stdout",
     "output_type": "stream",
     "text": [
      "Test Results for the Final Tuned XGBoost Model:\n",
      "Mean Squared Error (MSE): 17.70470711831048\n",
      "Root Mean Squared Error (RMSE): 4.2076961770439745\n",
      "R-squared (R2) Score: 0.6514856252814283\n"
     ]
    }
   ],
   "source": [
    "y_pred_xgb = best_xgb_reg.predict(X_test)\n",
    "\n",
    "mse_xgb = mean_squared_error(y_test, y_pred_xgb)\n",
    "\n",
    "rmse_xgb = np.sqrt(mse_xgb)\n",
    "\n",
    "r2_xgb = r2_score(y_test, y_pred_xgb)\n",
    "\n",
    "print(\"Test Results for the Final Tuned XGBoost Model:\")\n",
    "print(f\"Mean Squared Error (MSE): {mse_xgb}\")\n",
    "print(f\"Root Mean Squared Error (RMSE): {rmse_xgb}\")\n",
    "print(f\"R-squared (R2) Score: {r2_xgb}\")\n"
   ]
  },
  {
   "cell_type": "markdown",
   "metadata": {},
   "source": [
    "3. Light Gradient Boosting Model (LGBM)"
   ]
  },
  {
   "cell_type": "code",
   "execution_count": 109,
   "metadata": {},
   "outputs": [
    {
     "name": "stdout",
     "output_type": "stream",
     "text": [
      "Collecting lightgbm\n",
      "  Using cached lightgbm-4.1.0-py3-none-win_amd64.whl (1.3 MB)\n",
      "Requirement already satisfied: numpy in c:\\users\\ashis\\anaconda3\\lib\\site-packages (from lightgbm) (1.20.3)\n",
      "Requirement already satisfied: scipy in c:\\users\\ashis\\anaconda3\\lib\\site-packages (from lightgbm) (1.7.1)\n",
      "Installing collected packages: lightgbm\n",
      "Successfully installed lightgbm-4.1.0\n"
     ]
    }
   ],
   "source": [
    "!pip install lightgbm"
   ]
  },
  {
   "cell_type": "code",
   "execution_count": 41,
   "metadata": {},
   "outputs": [],
   "source": [
    "import lightgbm as lgb"
   ]
  },
  {
   "cell_type": "code",
   "execution_count": 42,
   "metadata": {},
   "outputs": [
    {
     "name": "stdout",
     "output_type": "stream",
     "text": [
      "[LightGBM] [Warning] Found whitespace in feature_names, replace with underlines\n",
      "[LightGBM] [Info] Auto-choosing row-wise multi-threading, the overhead of testing was 0.001356 seconds.\n",
      "You can set `force_row_wise=true` to remove the overhead.\n",
      "And if memory is not enough, you can set `force_col_wise=true`.\n",
      "[LightGBM] [Info] Total Bins 977\n",
      "[LightGBM] [Info] Number of data points in the train set: 16836, number of used features: 25\n",
      "[LightGBM] [Info] Start training from score 12.981827\n"
     ]
    },
    {
     "data": {
      "text/plain": [
       "LGBMRegressor(random_state=42)"
      ]
     },
     "execution_count": 42,
     "metadata": {},
     "output_type": "execute_result"
    }
   ],
   "source": [
    "lgb_reg = lgb.LGBMRegressor(random_state=42)\n",
    "lgb_reg.fit(X_train, y_train)"
   ]
  },
  {
   "cell_type": "code",
   "execution_count": null,
   "metadata": {
    "tags": []
   },
   "outputs": [],
   "source": [
    "# Define a grid of hyperparameters to search over\n",
    "param_grid = {\n",
    "    'n_estimators': [100, 200, 300],\n",
    "    'learning_rate': [0.01, 0.1, 0.2],\n",
    "    'max_depth': [3, 4, 5],\n",
    "    'num_leaves': [15, 31, 63]\n",
    "}\n",
    "\n",
    "# Create the GridSearchCV object\n",
    "grid_search = GridSearchCV(lgb_reg, param_grid, cv=5, scoring='neg_mean_squared_error')\n",
    "\n",
    "# Fit the grid search to your training data\n",
    "grid_search.fit(X_train, y_train)\n",
    "\n",
    "# Get the best hyperparameters\n",
    "best_params = grid_search.best_params_\n",
    "\n",
    "# Create a new LGBM model with the best hyperparameters\n",
    "best_lgb_reg = lgb.LGBMRegressor(random_state=42, **best_params)\n",
    "\n",
    "# Train the best model on the training data\n",
    "best_lgb_reg.fit(X_train, y_train)\n"
   ]
  },
  {
   "cell_type": "code",
   "execution_count": 44,
   "metadata": {
    "tags": [
     "hide-output"
    ]
   },
   "outputs": [
    {
     "name": "stdout",
     "output_type": "stream",
     "text": [
      "[LightGBM] [Warning] Accuracy may be bad since you didn't explicitly set num_leaves OR 2^max_depth > num_leaves. (num_leaves=31).\n",
      "Mean Squared Error (MSE): 17.75524347298393\n",
      "Root Mean Squared Error (RMSE): 4.213697126394342\n",
      "R-squared (R2) Score: 0.6504908250889213\n"
     ]
    }
   ],
   "source": [
    "y_pred_lgb = best_lgb_reg.predict(X_test)\n",
    "\n",
    "mse_lgb = mean_squared_error(y_test, y_pred_lgb)\n",
    "\n",
    "rmse_lgb = np.sqrt(mse_lgb)\n",
    "\n",
    "r2_lgb = r2_score(y_test, y_pred_lgb)\n",
    "\n",
    "print(f\"Mean Squared Error (MSE): {mse_lgb}\")\n",
    "print(f\"Root Mean Squared Error (RMSE): {rmse_lgb}\")\n",
    "print(f\"R-squared (R2) Score: {r2_lgb}\")"
   ]
  },
  {
   "cell_type": "markdown",
   "metadata": {},
   "source": [
    "Checking the overall scores of all the 4 models in hand:"
   ]
  },
  {
   "cell_type": "code",
   "execution_count": 45,
   "metadata": {},
   "outputs": [
    {
     "name": "stdout",
     "output_type": "stream",
     "text": [
      "KNN Mean Squared Error (MSE): 24.222122194946234\n",
      "KNN Root Mean Squared Error (RMSE): 4.921597524681009\n",
      "KNN R-squared (R2) Score: 0.5231913346706577\n",
      "\n",
      "Linear Regression Mean Squared Error (MSE): 23.69133542574051\n",
      "Linear Regression Root Mean Squared Error (RMSE): 4.867374592708117\n",
      "Linear Regression R-squared (R2) Score: 0.5336397887310644\n",
      "\n",
      "XGBoost Mean Squared Error (MSE): 17.70470711831048\n",
      "XGBoost Root Mean Squared Error (RMSE): 4.2076961770439745\n",
      "XGBoost R-squared (R2) Score: 0.6514856252814283\n",
      "\n",
      "LightGBM Mean Squared Error (MSE): 17.75524347298393\n",
      "LightGBM Root Mean Squared Error (RMSE): 4.213697126394342\n",
      "LightGBM R-squared (R2) Score: 0.6504908250889213\n"
     ]
    }
   ],
   "source": [
    "print(f\"KNN Mean Squared Error (MSE): {mse_knn}\")\n",
    "print(f\"KNN Root Mean Squared Error (RMSE): {rmse_knn}\")\n",
    "print(f\"KNN R-squared (R2) Score: {r2_knn}\")\n",
    "\n",
    "print()\n",
    "\n",
    "print(f\"Linear Regression Mean Squared Error (MSE): {mse_lr}\")\n",
    "print(f\"Linear Regression Root Mean Squared Error (RMSE): {rmse_lr}\")\n",
    "print(f\"Linear Regression R-squared (R2) Score: {r2_lr}\")\n",
    "\n",
    "print()\n",
    "\n",
    "print(f\"XGBoost Mean Squared Error (MSE): {mse_xgb}\")\n",
    "print(f\"XGBoost Root Mean Squared Error (RMSE): {rmse_xgb}\")\n",
    "print(f\"XGBoost R-squared (R2) Score: {r2_xgb}\")\n",
    "\n",
    "print()\n",
    "\n",
    "print(f\"LightGBM Mean Squared Error (MSE): {mse_lgb}\")\n",
    "print(f\"LightGBM Root Mean Squared Error (RMSE): {rmse_lgb}\")\n",
    "print(f\"LightGBM R-squared (R2) Score: {r2_lgb}\")\n"
   ]
  },
  {
   "cell_type": "markdown",
   "metadata": {},
   "source": [
    "Lower MSE, RSME and higher R2 score reflects a better model."
   ]
  },
  {
   "cell_type": "markdown",
   "metadata": {},
   "source": [
    "Out of the lot, we can see that the LGBM model has the lowest MSE and RSME, and the highest R2 score. Hence, we will use this model for further analysis."
   ]
  },
  {
   "cell_type": "markdown",
   "metadata": {},
   "source": [
    "Creating the final LGBM pickle file for further usage (exporting the model)"
   ]
  },
  {
   "cell_type": "markdown",
   "metadata": {},
   "source": [
    "### Model Export"
   ]
  },
  {
   "cell_type": "code",
   "execution_count": 46,
   "metadata": {},
   "outputs": [],
   "source": [
    "import pickle"
   ]
  },
  {
   "cell_type": "code",
   "execution_count": 47,
   "metadata": {},
   "outputs": [],
   "source": [
    "with open('best_lgbm_model.pkl', 'wb') as file:\n",
    "    pickle.dump(best_lgb_reg, file)"
   ]
  }
 ],
 "metadata": {
  "kernelspec": {
   "display_name": "Python 3",
   "language": "python",
   "name": "python3"
  },
  "language_info": {
   "codemirror_mode": {
    "name": "ipython",
    "version": 3
   },
   "file_extension": ".py",
   "mimetype": "text/x-python",
   "name": "python",
   "nbconvert_exporter": "python",
   "pygments_lexer": "ipython3",
   "version": "3.9.7"
  }
 },
 "nbformat": 4,
 "nbformat_minor": 2
}
